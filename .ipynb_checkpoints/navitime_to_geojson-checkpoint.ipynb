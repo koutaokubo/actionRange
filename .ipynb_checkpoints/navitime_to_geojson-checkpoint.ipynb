{
 "cells": [
  {
   "cell_type": "code",
   "execution_count": 4,
   "metadata": {},
   "outputs": [],
   "source": [
    "import requests\n",
    "import os\n",
    "import pandas as pd\n",
    "import geojson\n",
    "from mapboxgl.utils import df_to_geojson\n",
    "from flask import Flask\n",
    "from flask import render_template\n",
    "\n",
    "mapbox_token = 'pk.eyJ1Ijoia291dGEwNDIyIiwiYSI6ImNrdGJxcHRseDF5czYyb3FraWU5Znp3cTkifQ.cknW15ccrf7NCR4bQtlUkA'\n",
    "rapidapi_key = 'c38f754eeamshe5c7f581381f479p1a4cb4jsn7e2d577d20e8'\n",
    "\n",
    "# app = Flask(__name__)\n",
    "\n",
    "# @app.route(\"/\")\n",
    "# @app.route(\"/\")\n",
    "# def show_transit():\n",
    "#     data = transit()\n",
    "#     return render_template('transit.html', data=data)\n",
    "\n",
    "def transit():\n",
    "    from collections import MutableMapping\n",
    "    def flatten(d, parent_key='', sep='_'):\n",
    "        \"\"\"\n",
    "        flatten dictionary\n",
    "        https://stackoverflow.com/questions/6027558/flatten-nested-dictionaries-compressing-keys\n",
    "        \"\"\"\n",
    "        items = []\n",
    "        for k, v in d.items():\n",
    "            new_key = parent_key + sep + k if parent_key else k\n",
    "            if isinstance(v, MutableMapping):\n",
    "                items.extend(flatten(v, new_key, sep=sep).items())\n",
    "            else:\n",
    "                items.append((new_key, v))\n",
    "        return dict(items)\n",
    "\n",
    "    url = \"https://navitime-reachable.p.rapidapi.com/reachable_transit\"\n",
    "\n",
    "    tsudanuma_loc = \"35.691276738069,140.02032888852\"\n",
    "    querystring = {\n",
    "        \"start\":tsudanuma_loc,\n",
    "        \"term\":\"180\",\n",
    "        \"term_from\":\"0\",\n",
    "        \"walk_speed\":\"5\",\n",
    "        \"transit_limit\":\"30\",\n",
    "        \"offset\":\"0\",\n",
    "        \"limit\":\"2000\",\n",
    "        \"datum\":\"wgs84\",\n",
    "        \"coord_unit\":\"degree\",\n",
    "    }\n",
    "    headers = {\n",
    "        'x-rapidapi-host': \"navitime-reachable.p.rapidapi.com\",\n",
    "        'x-rapidapi-key': rapidapi_key\n",
    "        }\n",
    "\n",
    "    response = requests.request(\"GET\", url, headers=headers, params=querystring)\n",
    "    tsudanuma = response.json()\n",
    "    items = [flatten(item) for item in tsudanuma['items']]\n",
    "    df = pd.DataFrame(items)\n",
    "    points = df_to_geojson(df,\n",
    "                        properties=['name', 'node_id', 'time', 'transit_count'],\n",
    "                        lat='coord_lat',\n",
    "                        lon='coord_lon',\n",
    "                        precision=6)\n",
    "    # if(os.path.exists('navitime_reachable_transit.geojson')):\n",
    "    #     os.remove('navitime_reachable_transit.geojson')\n",
    "    #     with open(\"navitime_reachable_transit.geojson\", 'w') as outfile:\n",
    "    #      geojson.dump(points, outfile)\n",
    "    # else:\n",
    "    #     with open(\"navitime_reachable_transit.geojson\", 'w') as outfile:\n",
    "    #      geojson.dump(points, outfile)\n",
    "\n",
    "    return points"
   ]
  },
  {
   "cell_type": "code",
   "execution_count": 5,
   "metadata": {},
   "outputs": [
    {
     "name": "stderr",
     "output_type": "stream",
     "text": [
      "<ipython-input-4-3f949b37558f>:21: DeprecationWarning: Using or importing the ABCs from 'collections' instead of from 'collections.abc' is deprecated since Python 3.3, and in 3.9 it will stop working\n",
      "  from collections import MutableMapping\n"
     ]
    },
    {
     "name": "stdout",
     "output_type": "stream",
     "text": [
      "<class 'geojson.feature.FeatureCollection'>\n"
     ]
    }
   ],
   "source": [
    "points = transit()\n",
    "print"
   ]
  },
  {
   "cell_type": "code",
   "execution_count": null,
   "metadata": {},
   "outputs": [],
   "source": []
  }
 ],
 "metadata": {
  "kernelspec": {
   "display_name": "Python 3",
   "language": "python",
   "name": "python3"
  },
  "language_info": {
   "codemirror_mode": {
    "name": "ipython",
    "version": 3
   },
   "file_extension": ".py",
   "mimetype": "text/x-python",
   "name": "python",
   "nbconvert_exporter": "python",
   "pygments_lexer": "ipython3",
   "version": "3.8.8"
  }
 },
 "nbformat": 4,
 "nbformat_minor": 2
}
